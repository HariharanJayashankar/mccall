{
 "cells": [
  {
   "cell_type": "markdown",
   "metadata": {},
   "source": [
    "# Things to look into\n",
    "\n",
    "The value matrices don't seem right. even if c > max(possible w), V >> U. This is wrong"
   ]
  },
  {
   "cell_type": "code",
   "execution_count": 28,
   "metadata": {},
   "outputs": [],
   "source": [
    "import numpy as np\n",
    "import scipy.stats as stats\n",
    "import matplotlib.pyplot as plt\n",
    "from quantecon.distributions import BetaBinomial"
   ]
  },
  {
   "cell_type": "code",
   "execution_count": 49,
   "metadata": {},
   "outputs": [],
   "source": [
    "class mccall(): #defining a class to work out the model\n",
    "    \n",
    "    def __init__(self, \n",
    "                 w = np.linspace(10, 50, 100),\n",
    "                 beta = .99, \n",
    "                 c = 6, \n",
    "                 alpha = 0.3, \n",
    "                 sigma = 1.2): #initialize values\n",
    "        \n",
    "        w.sort()\n",
    "        dist = BetaBinomial(99, 100, 200)\n",
    "        pdf = dist.pdf()\n",
    "        \n",
    "        self.w, self.beta, self.pdf, self.alpha, self.sigma, self.c = w, beta, pdf, alpha, sigma, c\n",
    "        \n",
    "    def u_crra(self, a1, a2): #utility function\n",
    "        if a1 > 0:\n",
    "            return (a1**(1 - a2) - 1) / (1 - a2)\n",
    "        else:\n",
    "            return 0\n",
    "    \n",
    "        \n",
    "    def plot_wages(self):\n",
    "        fig, ax = plt.subplots()\n",
    "        \n",
    "        ax.plot(self.w, self.pdf,\n",
    "            alpha = 1)\n",
    "        ax.set_xlabel('Wages')\n",
    "        ax.set_ylabel('Probabilties')\n",
    "        plt.show()\n",
    "    \n",
    "    def calc(self, n_iter = 100, tol = 1e-6):\n",
    "        w, beta, pdf, alpha, sigma, c= self.w, self.beta, self.pdf, self.alpha, self.sigma, self.c\n",
    "        u_crra = self.u_crra\n",
    "        \n",
    "        #guess initial values\n",
    "        v_0 = np.ones(len(w))\n",
    "        u_0 = 1\n",
    "        \n",
    "        #initialize blank empty vectors for next period\n",
    "        v_1 = np.empty_like(v_0)\n",
    "        u_1 = np.empty_like(u_0)\n",
    "        \n",
    "        #init values for the loop\n",
    "        i = 0\n",
    "        error = tol + 1\n",
    "        \n",
    "        while i < n_iter and error > tol:\n",
    "            for w_ind, w_i in enumerate(w):\n",
    "                v_1[w_ind] = u_crra(w_i, sigma) + beta*(alpha*u_0 + (1-alpha)*v_0[w_ind])\n",
    "            u_1 = u_crra(c, sigma) + beta*np.sum(np.maximum(u_0, v_0)*pdf)\n",
    "            \n",
    "            v_error = np.max(np.abs(v_1 - v_0))\n",
    "            u_error = np.abs(u_1 - u_0)\n",
    "            \n",
    "            error = max(v_error, u_error)\n",
    "            v_0 = v_1\n",
    "            u_0 = u_1\n",
    "            \n",
    "            i += 1\n",
    "        \n",
    "        self.error = error\n",
    "        self.c = c\n",
    "        self.w = w\n",
    "        \n",
    "        return v_1, u_1\n",
    "\n",
    "    \n",
    "mdl = mccall()"
   ]
  },
  {
   "cell_type": "code",
   "execution_count": 50,
   "metadata": {},
   "outputs": [
    {
     "data": {
      "image/png": "[encoded data removed]",
      "text/plain": [
       "<Figure size 576x720 with 1 Axes>"
      ]
     },
     "metadata": {
      "needs_background": "light"
     },
     "output_type": "display_data"
    }
   ],
   "source": [
    "v, u = mdl.calc()\n",
    "\n",
    "fig, ax = plt.subplots(figsize = (8, 10))\n",
    "ax.plot(mdl.w, v, 'b-',label = 'V')\n",
    "ax.plot(mdl.w, [u]*len(mdl.w), 'g-', label = 'U')\n",
    "ax.legend(loc='best')\n",
    "\n",
    "plt.show()\n"
   ]
  }
 ],
 "metadata": {
  "kernelspec": {
   "display_name": "Python 3",
   "language": "python",
   "name": "python3"
  },
  "language_info": {
   "codemirror_mode": {
    "name": "ipython",
    "version": 3
   },
   "file_extension": ".py",
   "mimetype": "text/x-python",
   "name": "python",
   "nbconvert_exporter": "python",
   "pygments_lexer": "ipython3",
   "version": "3.6.6"
  }
 },
 "nbformat": 4,
 "nbformat_minor": 2
}
